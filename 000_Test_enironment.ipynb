{
 "cells": [
  {
   "cell_type": "code",
   "execution_count": null,
   "id": "874d526f-13f2-4060-9333-6c4a671d4234",
   "metadata": {},
   "outputs": [],
   "source": []
  },
  {
   "cell_type": "code",
   "execution_count": 1,
   "id": "6e2cd9cc-5f7b-497b-8817-f3fb8b8cea96",
   "metadata": {},
   "outputs": [],
   "source": [
    "from boardgame2 import ReversiEnv"
   ]
  },
  {
   "cell_type": "code",
   "execution_count": 14,
   "id": "96b6d076-13a1-4ee1-b1c1-c2ffbe36373d",
   "metadata": {},
   "outputs": [
    {
     "name": "stdout",
     "output_type": "stream",
     "text": [
      "[[ 0  0  0  0  0  0  0  0]\n",
      " [ 0  0  0  0  0  0  0  0]\n",
      " [ 0  0  0  0  0  0  0  0]\n",
      " [ 0  0  0  1 -1  0  0  0]\n",
      " [ 0  0  0 -1  1  0  0  0]\n",
      " [ 0  0  0  0  0  0  0  0]\n",
      " [ 0  0  0  0  0  0  0  0]\n",
      " [ 0  0  0  0  0  0  0  0]]\n",
      "1\n"
     ]
    }
   ],
   "source": [
    "env = ReversiEnv(board_shape=8)\n",
    "(board, player) = env.reset()\n",
    "print(board)\n",
    "print(player)"
   ]
  },
  {
   "cell_type": "code",
   "execution_count": 15,
   "id": "9acdeb02-d29e-4b82-8767-f09f8ea48a93",
   "metadata": {},
   "outputs": [
    {
     "data": {
      "text/plain": [
       "array([[0, 0, 0, 0, 0, 0, 0, 0],\n",
       "       [0, 0, 0, 0, 0, 0, 0, 0],\n",
       "       [0, 0, 0, 0, 1, 0, 0, 0],\n",
       "       [0, 0, 0, 0, 0, 1, 0, 0],\n",
       "       [0, 0, 1, 0, 0, 0, 0, 0],\n",
       "       [0, 0, 0, 1, 0, 0, 0, 0],\n",
       "       [0, 0, 0, 0, 0, 0, 0, 0],\n",
       "       [0, 0, 0, 0, 0, 0, 0, 0]], dtype=int8)"
      ]
     },
     "execution_count": 15,
     "metadata": {},
     "output_type": "execute_result"
    }
   ],
   "source": [
    "env.get_valid((board, player))"
   ]
  },
  {
   "cell_type": "code",
   "execution_count": 13,
   "id": "9be137c9-d538-42b6-a495-27b8c11709c0",
   "metadata": {},
   "outputs": [
    {
     "name": "stdout",
     "output_type": "stream",
     "text": [
      "[[ 0  0  0  0  0  0  0  0]\n",
      " [ 0  0  0  0  0  0  0  0]\n",
      " [ 0  0  0  0  1  0  0  0]\n",
      " [ 0  0  0  1  1  0  0  0]\n",
      " [ 0  0  0 -1  1  0  0  0]\n",
      " [ 0  0  0  0  0  0  0  0]\n",
      " [ 0  0  0  0  0  0  0  0]\n",
      " [ 0  0  0  0  0  0  0  0]]\n",
      "-1\n"
     ]
    }
   ],
   "source": [
    "(board, player), reward, done, _ = env.step([2,4])\n",
    "print(board)\n",
    "print(player)"
   ]
  },
  {
   "cell_type": "markdown",
   "id": "ca2b00c5-317c-47e8-9611-19a3e107b644",
   "metadata": {},
   "source": [
    "# Agente de RL"
   ]
  },
  {
   "cell_type": "code",
   "execution_count": 18,
   "id": "67fdd885-5b86-4659-831d-5a3d206c80ad",
   "metadata": {},
   "outputs": [],
   "source": [
    "from helper import SelfPlayEnv\n",
    "from players import RandomPlayer"
   ]
  },
  {
   "cell_type": "code",
   "execution_count": 19,
   "id": "b3c39677-477b-4486-a4e3-30f544987eee",
   "metadata": {},
   "outputs": [],
   "source": [
    "env = SelfPlayEnv(board_shape=4, LocalPlayer=RandomPlayer)"
   ]
  },
  {
   "cell_type": "code",
   "execution_count": 23,
   "id": "e8223843-d00b-4eba-b627-838cda5f7e69",
   "metadata": {},
   "outputs": [
    {
     "name": "stdout",
     "output_type": "stream",
     "text": [
      "[[ 0  0  0  0]\n",
      " [ 0  1 -1  0]\n",
      " [ 0 -1  1  0]\n",
      " [ 0  0  0  0]]\n"
     ]
    }
   ],
   "source": [
    "board = env.reset()\n",
    "print(board)"
   ]
  },
  {
   "cell_type": "code",
   "execution_count": 53,
   "id": "0f50052e-b947-4e1a-894f-7f78d0028e4c",
   "metadata": {},
   "outputs": [
    {
     "name": "stdout",
     "output_type": "stream",
     "text": [
      "[[ 0  0  0  0]\n",
      " [ 0 -1  1  0]\n",
      " [ 0 -1 -1  0]\n",
      " [ 0 -1  0  0]]\n"
     ]
    }
   ],
   "source": [
    "board = env.reset()\n",
    "print(board)"
   ]
  },
  {
   "cell_type": "code",
   "execution_count": 55,
   "id": "203e2f1e-f302-4d79-bb5d-b199f9afac58",
   "metadata": {},
   "outputs": [
    {
     "name": "stdout",
     "output_type": "stream",
     "text": [
      "[[ 0  0  0  0]\n",
      " [ 0 -1  1  0]\n",
      " [ 0 -1 -1  0]\n",
      " [ 0 -1  0  0]]\n"
     ]
    }
   ],
   "source": [
    "print(board)"
   ]
  },
  {
   "cell_type": "code",
   "execution_count": 56,
   "id": "e3ce4dd7-a029-457d-a9b3-0581de5b24d1",
   "metadata": {},
   "outputs": [],
   "source": [
    "board, reward, done, _ = env.step(4)"
   ]
  },
  {
   "cell_type": "code",
   "execution_count": 57,
   "id": "e46bb8c8-9936-4875-b943-4ecf590af6bf",
   "metadata": {},
   "outputs": [
    {
     "name": "stdout",
     "output_type": "stream",
     "text": [
      "[[ 0  0 -1  0]\n",
      " [ 1  1 -1  0]\n",
      " [ 0 -1 -1  0]\n",
      " [ 0 -1  0  0]]\n",
      "-0.0\n"
     ]
    }
   ],
   "source": [
    "print(board)\n",
    "print(reward)"
   ]
  },
  {
   "cell_type": "code",
   "execution_count": null,
   "id": "f1ae26ae-ad80-4111-8aa5-a24dd32e1773",
   "metadata": {},
   "outputs": [],
   "source": []
  }
 ],
 "metadata": {
  "kernelspec": {
   "display_name": "Python 3",
   "language": "python",
   "name": "python3"
  },
  "language_info": {
   "codemirror_mode": {
    "name": "ipython",
    "version": 3
   },
   "file_extension": ".py",
   "mimetype": "text/x-python",
   "name": "python",
   "nbconvert_exporter": "python",
   "pygments_lexer": "ipython3",
   "version": "3.7.3"
  }
 },
 "nbformat": 4,
 "nbformat_minor": 5
}
