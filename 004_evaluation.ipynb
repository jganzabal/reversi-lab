{
 "cells": [
  {
   "cell_type": "code",
   "execution_count": 1,
   "id": "ecb6925c-38f3-4d0e-acea-63735bb9aa7a",
   "metadata": {},
   "outputs": [],
   "source": [
    "%load_ext autoreload\n",
    "%autoreload 2"
   ]
  },
  {
   "cell_type": "markdown",
   "id": "05305109-e709-484e-9828-3ff8000498a6",
   "metadata": {},
   "source": [
    "# Paper action masking\n",
    "https://arxiv.org/abs/2006.14171"
   ]
  },
  {
   "cell_type": "code",
   "execution_count": 2,
   "id": "e6090c2a-22f9-48da-a45c-0ee42a6b7594",
   "metadata": {},
   "outputs": [],
   "source": [
    "import numpy as np\n",
    "from stable_baselines3 import PPO\n",
    "import torch as th\n",
    "from players import TorchPlayer, RandomPlayer, GreedyPlayer, evaluate_player, DictPolicyPlayer\n",
    "from helper import SelfPlayEnv"
   ]
  },
  {
   "cell_type": "code",
   "execution_count": 74,
   "id": "1d62f6e0-c2b4-4e55-bf9e-7acbd3649bd6",
   "metadata": {},
   "outputs": [],
   "source": [
    "N = 1000"
   ]
  },
  {
   "cell_type": "markdown",
   "id": "cf135bff-3073-41ef-801a-40c79cb5e45f",
   "metadata": {},
   "source": [
    "# Board shape 4"
   ]
  },
  {
   "cell_type": "code",
   "execution_count": 7,
   "id": "746d029f-a751-4187-8862-269285eb0d5e",
   "metadata": {},
   "outputs": [],
   "source": [
    "board_shape = 4\n",
    "random_player_2 = RandomPlayer(board_shape=board_shape)\n",
    "greedy_player_2 = GreedyPlayer(board_shape=board_shape)\n",
    "dict_policy_player_2 = DictPolicyPlayer(board_shape=board_shape)\n"
   ]
  },
  {
   "cell_type": "code",
   "execution_count": 10,
   "id": "6fe267c5-b9ce-4e5a-a788-073ee431269d",
   "metadata": {},
   "outputs": [
    {
     "name": "stderr",
     "output_type": "stream",
     "text": [
      "Using cache found in /home/jupyter-julian/.cache/torch/hub/pytorch_vision_v0.9.0\n"
     ]
    },
    {
     "name": "stdout",
     "output_type": "stream",
     "text": [
      "Wins as first: 0.806\n",
      "Wins as second: 0.976\n",
      "Ties as first: 0.056\n",
      "Ties as second: 0.0\n",
      "Plays as first: 500\n",
      "Plays as first: 500\n"
     ]
    }
   ],
   "source": [
    "model = PPO.load('models/PPO_4by4_0.99_0.95_0.0_10_8_masked/best_model.zip')\n",
    "board_shape = model.observation_space.shape[1]\n",
    "player = TorchPlayer(model, board_shape=board_shape, deterministic=True)\n",
    "_ = evaluate_player(player, random_player_2, N=N)"
   ]
  },
  {
   "cell_type": "markdown",
   "id": "33d9892c-d287-4eab-94d7-6840ab79edbd",
   "metadata": {},
   "source": [
    "# Board shape 8"
   ]
  },
  {
   "cell_type": "code",
   "execution_count": 75,
   "id": "04f9fd15-ca26-4a68-b8e0-8801e419ea4c",
   "metadata": {},
   "outputs": [],
   "source": [
    "board_shape = 8\n",
    "random_player_2 = RandomPlayer(board_shape=board_shape)\n",
    "greedy_player_2 = GreedyPlayer(board_shape=board_shape)"
   ]
  },
  {
   "cell_type": "code",
   "execution_count": 76,
   "id": "c88888a7-bb0b-47c8-a800-bf83f89c82d3",
   "metadata": {},
   "outputs": [
    {
     "name": "stderr",
     "output_type": "stream",
     "text": [
      "Using cache found in /home/jupyter-julian/.cache/torch/hub/pytorch_vision_v0.9.0\n"
     ]
    }
   ],
   "source": [
    "model_1 = PPO.load('models/PPO_8by8_0.99_0.95_0.0_10_8_masked/best_model-01.zip')\n",
    "board_shape = model.observation_space.shape[1]\n",
    "torch_player_1 = TorchPlayer(model_1, board_shape=board_shape, deterministic=True)"
   ]
  },
  {
   "cell_type": "code",
   "execution_count": 77,
   "id": "8e940968-8847-4410-945c-b425ddc17811",
   "metadata": {},
   "outputs": [
    {
     "name": "stdout",
     "output_type": "stream",
     "text": [
      "Wins as first: 0.8434237995822874\n",
      "Wins as second: 0.8867562380036685\n",
      "Ties as first: 0.018789144050100463\n",
      "Ties as second: 0.01919385796544737\n",
      "Plays as first: 479\n",
      "Plays as second: 521\n",
      "Avg game duration as first: 14.450999999998555\n",
      "Avg game duration as second: 15.568999999998443\n"
     ]
    }
   ],
   "source": [
    "_ = evaluate_player(torch_player_1, random_player_2, N=N)"
   ]
  },
  {
   "cell_type": "code",
   "execution_count": 78,
   "id": "2cdaf8bf-1641-4727-8d05-e729daed50df",
   "metadata": {},
   "outputs": [
    {
     "name": "stderr",
     "output_type": "stream",
     "text": [
      "Using cache found in /home/jupyter-julian/.cache/torch/hub/pytorch_vision_v0.9.0\n"
     ]
    }
   ],
   "source": [
    "model_2 = PPO.load('models/PPO_8by8_0.99_0.95_0.0_10_8_masked/best_model.zip')\n",
    "board_shape = model.observation_space.shape[1]\n",
    "torch_player_2 = TorchPlayer(model_2, board_shape=board_shape, deterministic=True)"
   ]
  },
  {
   "cell_type": "code",
   "execution_count": 79,
   "id": "be5671c4-88f8-4c9b-8334-f7c96a91386b",
   "metadata": {},
   "outputs": [
    {
     "name": "stdout",
     "output_type": "stream",
     "text": [
      "Wins as first: 0.8444444444442739\n",
      "Wins as second: 0.8772277227721036\n",
      "Ties as first: 0.022222222222217734\n",
      "Ties as second: 0.021782178217817468\n",
      "Plays as first: 495\n",
      "Plays as second: 505\n",
      "Avg game duration as first: 14.973999999998503\n",
      "Avg game duration as second: 15.09399999999849\n"
     ]
    }
   ],
   "source": [
    "_ = evaluate_player(torch_player_2, random_player_2, N=N)"
   ]
  },
  {
   "cell_type": "code",
   "execution_count": 60,
   "id": "7689c01f-39c3-40bd-b3f8-5bdf85e93ae8",
   "metadata": {},
   "outputs": [],
   "source": []
  },
  {
   "cell_type": "code",
   "execution_count": 73,
   "id": "dac0cb92-3a68-424c-b8c8-9961e22c7b37",
   "metadata": {},
   "outputs": [
    {
     "name": "stdout",
     "output_type": "stream",
     "text": [
      "Wins as first: 0.36585365853658536\n",
      "Wins as second: 0.3559322033898305\n",
      "Ties as first: 0.0\n",
      "Ties as second: 0.01694915254237288\n",
      "Plays as first: 41\n",
      "Plays as second: 59\n",
      "Avg game duration as first: 12.38\n",
      "Avg game duration as second: 17.51\n"
     ]
    }
   ],
   "source": [
    "torch_player_1 = TorchPlayer(model_1, board_shape=board_shape, deterministic=False)\n",
    "torch_player_2 = TorchPlayer(model_2, board_shape=board_shape, deterministic=True, flatten_action=False)\n",
    "_ = evaluate_player(torch_player_1, torch_player_2, N=100, eps=0)"
   ]
  },
  {
   "cell_type": "code",
   "execution_count": 72,
   "id": "8161579a-167d-45cd-b569-1d3d968dfb3b",
   "metadata": {},
   "outputs": [
    {
     "name": "stdout",
     "output_type": "stream",
     "text": [
      "Wins as first: 0.605263157893144\n",
      "Wins as second: 0.5967741935474246\n",
      "Ties as first: 0.02631578947361496\n",
      "Ties as second: 0.032258064516077004\n",
      "Plays as first: 38\n",
      "Plays as second: 62\n",
      "Avg game duration as first: 11.47999999998852\n",
      "Avg game duration as second: 18.47999999998152\n"
     ]
    }
   ],
   "source": [
    "torch_player_1 = TorchPlayer(model_1, board_shape=board_shape, deterministic=True)\n",
    "torch_player_2 = TorchPlayer(model_2, board_shape=board_shape, deterministic=False, flatten_action=False)\n",
    "_ = evaluate_player(torch_player_1, torch_player_2, N=100)"
   ]
  },
  {
   "cell_type": "code",
   "execution_count": null,
   "id": "59fc84fb-bfde-4c65-92f4-c4ab99937556",
   "metadata": {},
   "outputs": [],
   "source": []
  },
  {
   "cell_type": "code",
   "execution_count": 21,
   "id": "b61e5251-773b-4c5f-84ed-eee5b9d7bbc1",
   "metadata": {},
   "outputs": [
    {
     "name": "stderr",
     "output_type": "stream",
     "text": [
      "Using cache found in /home/jupyter-julian/.cache/torch/hub/pytorch_vision_v0.9.0\n",
      "Using cache found in /home/jupyter-julian/.cache/torch/hub/pytorch_vision_v0.9.0\n"
     ]
    },
    {
     "name": "stdout",
     "output_type": "stream",
     "text": [
      "Wins as first: 0.0\n",
      "Wins as second: 0.9999999999981818\n",
      "Ties as first: 0.0\n",
      "Ties as second: 0.0\n",
      "Plays as first: 45\n",
      "Plays as second: 55\n"
     ]
    }
   ],
   "source": [
    "board_shape = 8\n",
    "model_1 = PPO.load('models/PPO_8by8_0.99_0.95_0.0_10_8_masked/best_model-01.zip')\n",
    "torch_player_1 = TorchPlayer(model_1, board_shape=board_shape, deterministic=True)\n",
    "\n",
    "model_2 = PPO.load('models/PPO_8by8_0.99_0.95_0.0_10_8_masked/best_model.zip')\n",
    "torch_player_2 = TorchPlayer(model_2, board_shape=board_shape, deterministic=True, flatten_action=False)\n",
    "\n",
    "_ = evaluate_player(torch_player_1, torch_player_2, N=100, verbose=0)"
   ]
  },
  {
   "cell_type": "code",
   "execution_count": 56,
   "id": "7846b0f3-8960-4852-a400-cc1b62c14605",
   "metadata": {},
   "outputs": [
    {
     "name": "stderr",
     "output_type": "stream",
     "text": [
      "Using cache found in /home/jupyter-julian/.cache/torch/hub/pytorch_vision_v0.9.0\n",
      "Using cache found in /home/jupyter-julian/.cache/torch/hub/pytorch_vision_v0.9.0\n"
     ]
    },
    {
     "name": "stdout",
     "output_type": "stream",
     "text": [
      "Wins as first: 0.599999999988\n",
      "Wins as second: 0.399999999992\n",
      "Ties as first: 0.0\n",
      "Ties as second: 0.0\n",
      "Plays as first: 5\n",
      "Plays as second: 5\n"
     ]
    }
   ],
   "source": [
    "board_shape = 8\n",
    "model_1 = PPO.load('models/PPO_8by8_0.99_0.95_0.0_10_8_masked/best_model-01.zip')\n",
    "torch_player_1 = TorchPlayer(model_1, board_shape=board_shape, deterministic=False, flatten_action=False)\n",
    "\n",
    "model_2 = PPO.load('models/PPO_8by8_0.99_0.95_0.0_10_8_masked/best_model.zip')\n",
    "torch_player_2 = TorchPlayer(model_2, board_shape=board_shape, deterministic=False)\n",
    "\n",
    "_ = evaluate_player(torch_player_2, torch_player_1, N=10)"
   ]
  },
  {
   "cell_type": "code",
   "execution_count": 5,
   "id": "d6f21cf2-c30e-403d-a45b-2f59baaa32b8",
   "metadata": {},
   "outputs": [
    {
     "name": "stderr",
     "output_type": "stream",
     "text": [
      "Using cache found in /home/jupyter-julian/.cache/torch/hub/pytorch_vision_v0.9.0\n",
      "Using cache found in /home/jupyter-julian/.cache/torch/hub/pytorch_vision_v0.9.0\n"
     ]
    }
   ],
   "source": [
    "model_1 = PPO.load('models/PPO_8by8_0.99_0.95_0.0_10_8_masked/best_model-01.zip')\n",
    "torch_player_1 = TorchPlayer(model_1, board_shape=board_shape, deterministic=True, flatten_action=False)\n",
    "\n",
    "model_2 = PPO.load('models/PPO_8by8_0.99_0.95_0.0_10_8_masked/best_model.zip')\n",
    "torch_player_2 = TorchPlayer(model_2, board_shape=board_shape, deterministic=True, flatten_action=False)"
   ]
  },
  {
   "cell_type": "code",
   "execution_count": 6,
   "id": "4a12fded-1738-4370-8e39-f84ade3835af",
   "metadata": {},
   "outputs": [],
   "source": [
    "from boardgame2 import ReversiEnv"
   ]
  },
  {
   "cell_type": "code",
   "execution_count": 7,
   "id": "de415c18-45cf-4863-8dac-33758981dcc1",
   "metadata": {},
   "outputs": [],
   "source": [
    "env = ReversiEnv()"
   ]
  },
  {
   "cell_type": "code",
   "execution_count": 52,
   "id": "784e9183-e03f-47b5-bcfb-05fe1a051c43",
   "metadata": {},
   "outputs": [
    {
     "name": "stdout",
     "output_type": "stream",
     "text": [
      "1/-1/1/-1/1/-1/1/-1/1/-1/1/-1/1/-1/1/-1/1/-1/1/-1/1/-1/1/-1/1/-1/1/-1/1/-1/1/-1/1/-1/1/-1/1/-1/1/-1/1/-1/1/-1/1/-1/1/-1/1/-1/1/-1/1/-1/1/-1/1/-1/-1/-1/"
     ]
    },
    {
     "data": {
      "text/plain": [
       "-1"
      ]
     },
     "execution_count": 52,
     "metadata": {},
     "output_type": "execute_result"
    }
   ],
   "source": [
    "done = False\n",
    "(obs, player) = env.reset()\n",
    "while not done:\n",
    "    print(player, end='/')\n",
    "    if player == 1:\n",
    "        action = torch_player_2.predict(obs * player)\n",
    "    else:\n",
    "        action = torch_player_1.predict(obs * player)\n",
    "    (obs, player), reward, done, _ = env.step(action)\n",
    "reward"
   ]
  },
  {
   "cell_type": "code",
   "execution_count": null,
   "id": "fb8f0b80-f466-443c-ae05-7bc1f266e8e5",
   "metadata": {},
   "outputs": [],
   "source": []
  },
  {
   "cell_type": "code",
   "execution_count": null,
   "id": "c2b3dd4f-3f89-4094-83b7-0d1cf5b775ca",
   "metadata": {},
   "outputs": [],
   "source": []
  },
  {
   "cell_type": "code",
   "execution_count": null,
   "id": "761874cb-b802-4169-811f-116708ddea82",
   "metadata": {},
   "outputs": [],
   "source": []
  },
  {
   "cell_type": "code",
   "execution_count": 9,
   "id": "e702de38-e23c-45c2-924e-286989be606d",
   "metadata": {},
   "outputs": [
    {
     "name": "stderr",
     "output_type": "stream",
     "text": [
      "Using cache found in /home/jupyter-julian/.cache/torch/hub/pytorch_vision_v0.9.0\n"
     ]
    },
    {
     "name": "stdout",
     "output_type": "stream",
     "text": [
      "Wins as first: 0.8830409356725146\n",
      "Wins as second: 0.8891170431211499\n",
      "Ties as first: 0.025341130604288498\n",
      "Ties as second: 0.02053388090349076\n",
      "Plays as first: 513\n",
      "Plays as first: 487\n"
     ]
    }
   ],
   "source": [
    "model = PPO.load('models/PPO_8by8_0.99_0.95_0.0_10_8_masked/best_model.zip')\n",
    "board_shape = model.observation_space.shape[1]\n",
    "player = TorchPlayer(model, board_shape=board_shape, deterministic=True)\n",
    "_ = evaluate_player(player, RandomPlayer, N=1000)"
   ]
  },
  {
   "cell_type": "code",
   "execution_count": null,
   "id": "7a5be77f-62b5-4360-b64e-c64141ea5f7f",
   "metadata": {},
   "outputs": [],
   "source": []
  },
  {
   "cell_type": "code",
   "execution_count": null,
   "id": "642a768d-a088-4c71-9abd-e0651d6ab221",
   "metadata": {},
   "outputs": [],
   "source": []
  },
  {
   "cell_type": "code",
   "execution_count": null,
   "id": "01453e41-7d73-4ba4-9d0f-84aa10f9b6c6",
   "metadata": {},
   "outputs": [],
   "source": []
  },
  {
   "cell_type": "code",
   "execution_count": null,
   "id": "dee3b350-42e8-4582-90fe-53536e041fdf",
   "metadata": {},
   "outputs": [],
   "source": []
  },
  {
   "cell_type": "code",
   "execution_count": 11,
   "id": "3b180105-8764-4148-b198-3f65dad627a2",
   "metadata": {},
   "outputs": [],
   "source": [
    "def get_valid_actions(board):\n",
    "    self_play_env.get_valid((board, 1)).reshape(-1) \n",
    "    return self_play_env.get_valid((board, 1)).reshape(-1) \n",
    "model.policy.set_get_valid_actions(get_valid_actions)"
   ]
  },
  {
   "cell_type": "code",
   "execution_count": 12,
   "id": "ecdfff79-be7b-49d1-84ee-995ea103038d",
   "metadata": {},
   "outputs": [],
   "source": [
    "board_shape = model.observation_space.shape[1]\n",
    "\n",
    "# player = GreedyPlayer(env, 1, flatten_action=True)\n",
    "player = TorchPlayer(model, board_shape=board_shape, deterministic=True)\n",
    "# player = TorchPlayer(env, model, deterministic=False)"
   ]
  },
  {
   "cell_type": "code",
   "execution_count": 13,
   "id": "31c9c67e-fc34-43b7-94d1-89bb099ce34a",
   "metadata": {},
   "outputs": [],
   "source": [
    "wins_as_first = 0\n",
    "plays_as_first = 0\n",
    "wins_as_second = 0\n",
    "plays_as_second = 0\n",
    "N = 10\n",
    "for i in range(N):\n",
    "    self_play_env = SelfPlayEnv(board_shape=board_shape, Player=RandomPlayer, verbose=0)\n",
    "    done = False\n",
    "    board = self_play_env.reset()\n",
    "    while not done:\n",
    "        action = player.predict(board)\n",
    "        board, reward, done, _ = self_play_env.step(action)\n",
    "    if self_play_env.local_player_num == -1:\n",
    "        wins_as_first = wins_as_first + (reward == 1)\n",
    "        plays_as_first = plays_as_first + 1\n",
    "    else:\n",
    "        wins_as_second = wins_as_second + (reward == 1)\n",
    "        plays_as_second = plays_as_second + 1"
   ]
  },
  {
   "cell_type": "code",
   "execution_count": 14,
   "id": "31ea69df-5da1-4990-966e-8b0a6e855c77",
   "metadata": {},
   "outputs": [
    {
     "data": {
      "text/plain": [
       "(0.7142857142857143, 1.0)"
      ]
     },
     "execution_count": 14,
     "metadata": {},
     "output_type": "execute_result"
    }
   ],
   "source": [
    "wins_as_first/plays_as_first, wins_as_second/plays_as_second"
   ]
  },
  {
   "cell_type": "code",
   "execution_count": 57,
   "id": "81afa9ba-b7f4-49cf-8aef-4ccd18a9a43f",
   "metadata": {},
   "outputs": [
    {
     "data": {
      "text/plain": [
       "(505, 495)"
      ]
     },
     "execution_count": 57,
     "metadata": {},
     "output_type": "execute_result"
    }
   ],
   "source": [
    "plays_as_first, plays_as_second"
   ]
  },
  {
   "cell_type": "markdown",
   "id": "d73ef2f0-a052-4eda-a009-9a6596488c8c",
   "metadata": {},
   "source": [
    "deterministic actions\n",
    "contra random: (0.9230769230769231, 0.8688524590163934)\n",
    "model contra greedy: (1.0, 1.0)\n",
    "\n",
    "sample actions\n",
    "model contra random: (0.8125, 0.8461538461538461)\n",
    "model contra greedy: (0.8163265306122449, 0.7254901960784313)"
   ]
  },
  {
   "cell_type": "code",
   "execution_count": 512,
   "id": "9783ce59-0877-4392-804b-9badb5705692",
   "metadata": {
    "tags": []
   },
   "outputs": [
    {
     "name": "stdout",
     "output_type": "stream",
     "text": [
      "You play with -1\n",
      "Initial board\n",
      "[[ 0  0  0  0  0  0  0  0]\n",
      " [ 0  0  0  0  0  0  0  0]\n",
      " [ 0  0  0  0  0  0  0  0]\n",
      " [ 0  0  0  1 -1  0  0  0]\n",
      " [ 0  0  0 -1  1  0  0  0]\n",
      " [ 0  0  0  0  0  0  0  0]\n",
      " [ 0  0  0  0  0  0  0  0]\n",
      " [ 0  0  0  0  0  0  0  0]]\n",
      "[2 4] False\n",
      "Plays oponent:\n",
      "[[ 0  0  0  0  0  0  0  0]\n",
      " [ 0  0  0  0  0  0  0  0]\n",
      " [ 0  0  0  0  1  0  0  0]\n",
      " [ 0  0  0  1  1  0  0  0]\n",
      " [ 0  0  0 -1  1  0  0  0]\n",
      " [ 0  0  0  0  0  0  0  0]\n",
      " [ 0  0  0  0  0  0  0  0]\n",
      " [ 0  0  0  0  0  0  0  0]]\n",
      "Step: 1\n",
      "You play:\n",
      "[2, 3]\n",
      "[[ 0  0  0  0  0  0  0  0]\n",
      " [ 0  0  0  0  0  0  0  0]\n",
      " [ 0  0  0 -1  1  0  0  0]\n",
      " [ 0  0  0 -1  1  0  0  0]\n",
      " [ 0  0  0 -1  1  0  0  0]\n",
      " [ 0  0  0  0  0  0  0  0]\n",
      " [ 0  0  0  0  0  0  0  0]\n",
      " [ 0  0  0  0  0  0  0  0]]\n",
      "Plays oponent:\n",
      "[2 2] False\n",
      "[[ 0  0  0  0  0  0  0  0]\n",
      " [ 0  0  0  0  0  0  0  0]\n",
      " [ 0  0  1  1  1  0  0  0]\n",
      " [ 0  0  0  1  1  0  0  0]\n",
      " [ 0  0  0 -1  1  0  0  0]\n",
      " [ 0  0  0  0  0  0  0  0]\n",
      " [ 0  0  0  0  0  0  0  0]\n",
      " [ 0  0  0  0  0  0  0  0]]\n",
      "Reward: -0.0\n",
      "Step: 2\n",
      "You play:\n",
      "[4, 5]\n",
      "[[ 0  0  0  0  0  0  0  0]\n",
      " [ 0  0  0  0  0  0  0  0]\n",
      " [ 0  0  1  1  1  0  0  0]\n",
      " [ 0  0  0  1  1  0  0  0]\n",
      " [ 0  0  0 -1 -1 -1  0  0]\n",
      " [ 0  0  0  0  0  0  0  0]\n",
      " [ 0  0  0  0  0  0  0  0]\n",
      " [ 0  0  0  0  0  0  0  0]]\n",
      "Plays oponent:\n",
      "[5 2] False\n",
      "[[ 0  0  0  0  0  0  0  0]\n",
      " [ 0  0  0  0  0  0  0  0]\n",
      " [ 0  0  1  1  1  0  0  0]\n",
      " [ 0  0  0  1  1  0  0  0]\n",
      " [ 0  0  0  1 -1 -1  0  0]\n",
      " [ 0  0  1  0  0  0  0  0]\n",
      " [ 0  0  0  0  0  0  0  0]\n",
      " [ 0  0  0  0  0  0  0  0]]\n",
      "Reward: -0.0\n",
      "Step: 3\n",
      "You play:\n",
      "[1, 4]\n",
      "[[ 0  0  0  0  0  0  0  0]\n",
      " [ 0  0  0  0 -1  0  0  0]\n",
      " [ 0  0  1  1 -1  0  0  0]\n",
      " [ 0  0  0  1 -1  0  0  0]\n",
      " [ 0  0  0  1 -1 -1  0  0]\n",
      " [ 0  0  1  0  0  0  0  0]\n",
      " [ 0  0  0  0  0  0  0  0]\n",
      " [ 0  0  0  0  0  0  0  0]]\n",
      "Plays oponent:\n",
      "[2 5] False\n",
      "[[ 0  0  0  0  0  0  0  0]\n",
      " [ 0  0  0  0 -1  0  0  0]\n",
      " [ 0  0  1  1  1  1  0  0]\n",
      " [ 0  0  0  1  1  0  0  0]\n",
      " [ 0  0  0  1 -1 -1  0  0]\n",
      " [ 0  0  1  0  0  0  0  0]\n",
      " [ 0  0  0  0  0  0  0  0]\n",
      " [ 0  0  0  0  0  0  0  0]]\n",
      "Reward: -0.0\n",
      "Step: 4\n",
      "You play:\n",
      "[3, 6]\n",
      "[[ 0  0  0  0  0  0  0  0]\n",
      " [ 0  0  0  0 -1  0  0  0]\n",
      " [ 0  0  1  1  1 -1  0  0]\n",
      " [ 0  0  0  1  1  0 -1  0]\n",
      " [ 0  0  0  1 -1 -1  0  0]\n",
      " [ 0  0  1  0  0  0  0  0]\n",
      " [ 0  0  0  0  0  0  0  0]\n",
      " [ 0  0  0  0  0  0  0  0]]\n",
      "Plays oponent:\n",
      "[4 6] False\n",
      "[[ 0  0  0  0  0  0  0  0]\n",
      " [ 0  0  0  0 -1  0  0  0]\n",
      " [ 0  0  1  1  1 -1  0  0]\n",
      " [ 0  0  0  1  1  0 -1  0]\n",
      " [ 0  0  0  1  1  1  1  0]\n",
      " [ 0  0  1  0  0  0  0  0]\n",
      " [ 0  0  0  0  0  0  0  0]\n",
      " [ 0  0  0  0  0  0  0  0]]\n",
      "Reward: -0.0\n",
      "Step: 5\n",
      "You play:\n",
      "[5, 4]\n",
      "[[ 0  0  0  0  0  0  0  0]\n",
      " [ 0  0  0  0 -1  0  0  0]\n",
      " [ 0  0  1  1 -1 -1  0  0]\n",
      " [ 0  0  0  1 -1  0 -1  0]\n",
      " [ 0  0  0  1 -1 -1  1  0]\n",
      " [ 0  0  1  0 -1  0  0  0]\n",
      " [ 0  0  0  0  0  0  0  0]\n",
      " [ 0  0  0  0  0  0  0  0]]\n",
      "Plays oponent:\n",
      "[2 6] False\n",
      "[[ 0  0  0  0  0  0  0  0]\n",
      " [ 0  0  0  0 -1  0  0  0]\n",
      " [ 0  0  1  1  1  1  1  0]\n",
      " [ 0  0  0  1 -1  0  1  0]\n",
      " [ 0  0  0  1 -1 -1  1  0]\n",
      " [ 0  0  1  0 -1  0  0  0]\n",
      " [ 0  0  0  0  0  0  0  0]\n",
      " [ 0  0  0  0  0  0  0  0]]\n",
      "Reward: -0.0\n",
      "Step: 6\n",
      "You play:\n",
      "[2, 7]\n",
      "[[ 0  0  0  0  0  0  0  0]\n",
      " [ 0  0  0  0 -1  0  0  0]\n",
      " [ 0  0  1  1  1  1  1 -1]\n",
      " [ 0  0  0  1 -1  0 -1  0]\n",
      " [ 0  0  0  1 -1 -1  1  0]\n",
      " [ 0  0  1  0 -1  0  0  0]\n",
      " [ 0  0  0  0  0  0  0  0]\n",
      " [ 0  0  0  0  0  0  0  0]]\n",
      "Plays oponent:\n",
      "[6 4] False\n",
      "[[ 0  0  0  0  0  0  0  0]\n",
      " [ 0  0  0  0 -1  0  0  0]\n",
      " [ 0  0  1  1  1  1  1 -1]\n",
      " [ 0  0  0  1  1  0 -1  0]\n",
      " [ 0  0  0  1  1 -1  1  0]\n",
      " [ 0  0  1  0  1  0  0  0]\n",
      " [ 0  0  0  0  1  0  0  0]\n",
      " [ 0  0  0  0  0  0  0  0]]\n",
      "Reward: -0.0\n",
      "Step: 7\n",
      "You play:\n",
      "[1, 2]\n",
      "[[ 0  0  0  0  0  0  0  0]\n",
      " [ 0  0 -1  0 -1  0  0  0]\n",
      " [ 0  0  1 -1  1  1  1 -1]\n",
      " [ 0  0  0  1 -1  0 -1  0]\n",
      " [ 0  0  0  1  1 -1  1  0]\n",
      " [ 0  0  1  0  1  0  0  0]\n",
      " [ 0  0  0  0  1  0  0  0]\n",
      " [ 0  0  0  0  0  0  0  0]]\n",
      "Plays oponent:\n",
      "[0 2] False\n",
      "[[ 0  0  1  0  0  0  0  0]\n",
      " [ 0  0  1  0 -1  0  0  0]\n",
      " [ 0  0  1 -1  1  1  1 -1]\n",
      " [ 0  0  0  1 -1  0 -1  0]\n",
      " [ 0  0  0  1  1 -1  1  0]\n",
      " [ 0  0  1  0  1  0  0  0]\n",
      " [ 0  0  0  0  1  0  0  0]\n",
      " [ 0  0  0  0  0  0  0  0]]\n",
      "Reward: -0.0\n",
      "Step: 8\n",
      "You play:\n",
      "[2, 1]\n",
      "[[ 0  0  1  0  0  0  0  0]\n",
      " [ 0  0  1  0 -1  0  0  0]\n",
      " [ 0 -1 -1 -1  1  1  1 -1]\n",
      " [ 0  0  0  1 -1  0 -1  0]\n",
      " [ 0  0  0  1  1 -1  1  0]\n",
      " [ 0  0  1  0  1  0  0  0]\n",
      " [ 0  0  0  0  1  0  0  0]\n",
      " [ 0  0  0  0  0  0  0  0]]\n",
      "Plays oponent:\n",
      "[2 0] False\n",
      "[[ 0  0  1  0  0  0  0  0]\n",
      " [ 0  0  1  0 -1  0  0  0]\n",
      " [ 1  1  1  1  1  1  1 -1]\n",
      " [ 0  0  0  1 -1  0 -1  0]\n",
      " [ 0  0  0  1  1 -1  1  0]\n",
      " [ 0  0  1  0  1  0  0  0]\n",
      " [ 0  0  0  0  1  0  0  0]\n",
      " [ 0  0  0  0  0  0  0  0]]\n",
      "Reward: -0.0\n",
      "Step: 9\n",
      "You play:\n",
      "[7, 4]\n",
      "[[ 0  0  1  0  0  0  0  0]\n",
      " [ 0  0  1  0 -1  0  0  0]\n",
      " [ 1  1  1  1  1  1  1 -1]\n",
      " [ 0  0  0  1 -1  0 -1  0]\n",
      " [ 0  0  0  1 -1 -1  1  0]\n",
      " [ 0  0  1  0 -1  0  0  0]\n",
      " [ 0  0  0  0 -1  0  0  0]\n",
      " [ 0  0  0  0 -1  0  0  0]]\n",
      "Plays oponent:\n",
      "[5 6] False\n",
      "[[ 0  0  1  0  0  0  0  0]\n",
      " [ 0  0  1  0 -1  0  0  0]\n",
      " [ 1  1  1  1  1  1  1 -1]\n",
      " [ 0  0  0  1  1  0 -1  0]\n",
      " [ 0  0  0  1 -1  1  1  0]\n",
      " [ 0  0  1  0 -1  0  1  0]\n",
      " [ 0  0  0  0 -1  0  0  0]\n",
      " [ 0  0  0  0 -1  0  0  0]]\n",
      "Reward: -0.0\n",
      "Step: 10\n",
      "You play:\n",
      "[4, 7]\n",
      "[[ 0  0  1  0  0  0  0  0]\n",
      " [ 0  0  1  0 -1  0  0  0]\n",
      " [ 1  1  1  1  1  1  1 -1]\n",
      " [ 0  0  0  1  1  0 -1  0]\n",
      " [ 0  0  0  1 -1 -1 -1 -1]\n",
      " [ 0  0  1  0 -1  0  1  0]\n",
      " [ 0  0  0  0 -1  0  0  0]\n",
      " [ 0  0  0  0 -1  0  0  0]]\n",
      "Plays oponent:\n",
      "[0 3] False\n",
      "[[ 0  0  1  1  0  0  0  0]\n",
      " [ 0  0  1  0  1  0  0  0]\n",
      " [ 1  1  1  1  1  1  1 -1]\n",
      " [ 0  0  0  1  1  0 -1  0]\n",
      " [ 0  0  0  1 -1 -1 -1 -1]\n",
      " [ 0  0  1  0 -1  0  1  0]\n",
      " [ 0  0  0  0 -1  0  0  0]\n",
      " [ 0  0  0  0 -1  0  0  0]]\n",
      "Reward: -0.0\n",
      "Step: 11\n",
      "You play:\n",
      "[0, 4]\n",
      "[[ 0  0  1  1 -1  0  0  0]\n",
      " [ 0  0  1  0 -1  0  0  0]\n",
      " [ 1  1  1  1 -1  1  1 -1]\n",
      " [ 0  0  0  1 -1  0 -1  0]\n",
      " [ 0  0  0  1 -1 -1 -1 -1]\n",
      " [ 0  0  1  0 -1  0  1  0]\n",
      " [ 0  0  0  0 -1  0  0  0]\n",
      " [ 0  0  0  0 -1  0  0  0]]\n",
      "Plays oponent:\n",
      "[0 5] False\n",
      "[[ 0  0  1  1  1  1  0  0]\n",
      " [ 0  0  1  0  1  0  0  0]\n",
      " [ 1  1  1  1 -1  1  1 -1]\n",
      " [ 0  0  0  1 -1  0 -1  0]\n",
      " [ 0  0  0  1 -1 -1 -1 -1]\n",
      " [ 0  0  1  0 -1  0  1  0]\n",
      " [ 0  0  0  0 -1  0  0  0]\n",
      " [ 0  0  0  0 -1  0  0  0]]\n",
      "Reward: -0.0\n",
      "Step: 12\n",
      "You play:\n",
      "[3, 2]\n",
      "[[ 0  0  1  1  1  1  0  0]\n",
      " [ 0  0  1  0  1  0  0  0]\n",
      " [ 1  1  1  1 -1  1  1 -1]\n",
      " [ 0  0 -1 -1 -1  0 -1  0]\n",
      " [ 0  0  0 -1 -1 -1 -1 -1]\n",
      " [ 0  0  1  0 -1  0  1  0]\n",
      " [ 0  0  0  0 -1  0  0  0]\n",
      " [ 0  0  0  0 -1  0  0  0]]\n",
      "Plays oponent:\n",
      "[6 5] False\n",
      "[[ 0  0  1  1  1  1  0  0]\n",
      " [ 0  0  1  0  1  0  0  0]\n",
      " [ 1  1  1  1 -1  1  1 -1]\n",
      " [ 0  0  1 -1 -1  0 -1  0]\n",
      " [ 0  0  0  1 -1 -1 -1 -1]\n",
      " [ 0  0  1  0  1  0  1  0]\n",
      " [ 0  0  0  0 -1  1  0  0]\n",
      " [ 0  0  0  0 -1  0  0  0]]\n",
      "Reward: -0.0\n",
      "Step: 13\n",
      "You play:\n",
      "[3, 1]\n",
      "[[ 0  0  1  1  1  1  0  0]\n",
      " [ 0  0  1  0  1  0  0  0]\n",
      " [ 1  1  1  1 -1  1  1 -1]\n",
      " [ 0 -1 -1 -1 -1  0 -1  0]\n",
      " [ 0  0  0  1 -1 -1 -1 -1]\n",
      " [ 0  0  1  0  1  0  1  0]\n",
      " [ 0  0  0  0 -1  1  0  0]\n",
      " [ 0  0  0  0 -1  0  0  0]]\n",
      "Plays oponent:\n",
      "[4 1] False\n",
      "[[ 0  0  1  1  1  1  0  0]\n",
      " [ 0  0  1  0  1  0  0  0]\n",
      " [ 1  1  1  1 -1  1  1 -1]\n",
      " [ 0  1  1 -1 -1  0 -1  0]\n",
      " [ 0  1  0  1 -1 -1 -1 -1]\n",
      " [ 0  0  1  0  1  0  1  0]\n",
      " [ 0  0  0  0 -1  1  0  0]\n",
      " [ 0  0  0  0 -1  0  0  0]]\n",
      "Reward: -0.0\n",
      "Step: 14\n",
      "You play:\n",
      "[1, 3]\n",
      "[[ 0  0  1  1  1  1  0  0]\n",
      " [ 0  0  1 -1  1  0  0  0]\n",
      " [ 1  1  1 -1 -1  1  1 -1]\n",
      " [ 0  1  1 -1 -1  0 -1  0]\n",
      " [ 0  1  0  1 -1 -1 -1 -1]\n",
      " [ 0  0  1  0  1  0  1  0]\n",
      " [ 0  0  0  0 -1  1  0  0]\n",
      " [ 0  0  0  0 -1  0  0  0]]\n",
      "Plays oponent:\n",
      "[3 5] False\n",
      "[[ 0  0  1  1  1  1  0  0]\n",
      " [ 0  0  1  1  1  0  0  0]\n",
      " [ 1  1  1 -1  1  1  1 -1]\n",
      " [ 0  1  1  1  1  1 -1  0]\n",
      " [ 0  1  0  1 -1 -1 -1 -1]\n",
      " [ 0  0  1  0  1  0  1  0]\n",
      " [ 0  0  0  0 -1  1  0  0]\n",
      " [ 0  0  0  0 -1  0  0  0]]\n",
      "Reward: -0.0\n",
      "Step: 15\n",
      "You play:\n",
      "[3, 0]\n",
      "[[ 0  0  1  1  1  1  0  0]\n",
      " [ 0  0  1  1  1  0  0  0]\n",
      " [ 1  1  1 -1  1  1  1 -1]\n",
      " [-1 -1 -1 -1 -1 -1 -1  0]\n",
      " [ 0  1  0  1 -1 -1 -1 -1]\n",
      " [ 0  0  1  0  1  0  1  0]\n",
      " [ 0  0  0  0 -1  1  0  0]\n",
      " [ 0  0  0  0 -1  0  0  0]]\n",
      "Plays oponent:\n",
      "[5 5] False\n",
      "[[ 0  0  1  1  1  1  0  0]\n",
      " [ 0  0  1  1  1  0  0  0]\n",
      " [ 1  1  1 -1  1  1  1 -1]\n",
      " [-1 -1 -1  1 -1  1 -1  0]\n",
      " [ 0  1  0  1  1  1 -1 -1]\n",
      " [ 0  0  1  0  1  1  1  0]\n",
      " [ 0  0  0  0 -1  1  0  0]\n",
      " [ 0  0  0  0 -1  0  0  0]]\n",
      "Reward: -0.0\n",
      "Step: 16\n",
      "You play:\n",
      "[1, 0]\n",
      "[[ 0  0  1  1  1  1  0  0]\n",
      " [-1  0  1  1  1  0  0  0]\n",
      " [-1 -1  1 -1  1  1  1 -1]\n",
      " [-1 -1 -1  1 -1  1 -1  0]\n",
      " [ 0  1  0  1  1  1 -1 -1]\n",
      " [ 0  0  1  0  1  1  1  0]\n",
      " [ 0  0  0  0 -1  1  0  0]\n",
      " [ 0  0  0  0 -1  0  0  0]]\n",
      "Plays oponent:\n",
      "[1 1] False\n",
      "[[ 0  0  1  1  1  1  0  0]\n",
      " [-1  1  1  1  1  0  0  0]\n",
      " [-1  1  1 -1  1  1  1 -1]\n",
      " [-1  1 -1  1 -1  1 -1  0]\n",
      " [ 0  1  0  1  1  1 -1 -1]\n",
      " [ 0  0  1  0  1  1  1  0]\n",
      " [ 0  0  0  0 -1  1  0  0]\n",
      " [ 0  0  0  0 -1  0  0  0]]\n",
      "Reward: -0.0\n",
      "Step: 17\n",
      "You play:\n",
      "[7, 6]\n",
      "[[ 0  0  1  1  1  1  0  0]\n",
      " [-1  1  1  1  1  0  0  0]\n",
      " [-1  1  1 -1  1  1  1 -1]\n",
      " [-1  1 -1  1 -1  1 -1  0]\n",
      " [ 0  1  0 -1  1  1 -1 -1]\n",
      " [ 0  0  1  0 -1  1  1  0]\n",
      " [ 0  0  0  0 -1 -1  0  0]\n",
      " [ 0  0  0  0 -1  0 -1  0]]\n",
      "Plays oponent:\n",
      "[3 7] False\n",
      "[[ 0  0  1  1  1  1  0  0]\n",
      " [-1  1  1  1  1  0  0  0]\n",
      " [-1  1  1 -1  1  1  1 -1]\n",
      " [-1  1 -1  1 -1  1  1  1]\n",
      " [ 0  1  0 -1  1  1  1 -1]\n",
      " [ 0  0  1  0 -1  1  1  0]\n",
      " [ 0  0  0  0 -1 -1  0  0]\n",
      " [ 0  0  0  0 -1  0 -1  0]]\n",
      "Reward: -0.0\n",
      "Step: 18\n",
      "You play:\n",
      "[5, 0]\n",
      "[[ 0  0  1  1  1  1  0  0]\n",
      " [-1  1  1  1  1  0  0  0]\n",
      " [-1  1  1 -1  1  1  1 -1]\n",
      " [-1  1 -1  1 -1  1  1  1]\n",
      " [ 0 -1  0 -1  1  1  1 -1]\n",
      " [-1  0  1  0 -1  1  1  0]\n",
      " [ 0  0  0  0 -1 -1  0  0]\n",
      " [ 0  0  0  0 -1  0 -1  0]]\n",
      "Plays oponent:\n",
      "[4 2] False\n",
      "[[ 0  0  1  1  1  1  0  0]\n",
      " [-1  1  1  1  1  0  0  0]\n",
      " [-1  1  1 -1  1  1  1 -1]\n",
      " [-1  1  1  1 -1  1  1  1]\n",
      " [ 0 -1  1  1  1  1  1 -1]\n",
      " [-1  0  1  0 -1  1  1  0]\n",
      " [ 0  0  0  0 -1 -1  0  0]\n",
      " [ 0  0  0  0 -1  0 -1  0]]\n",
      "Reward: -0.0\n",
      "Step: 19\n",
      "You play:\n",
      "[6, 7]\n",
      "[[ 0  0  1  1  1  1  0  0]\n",
      " [-1  1  1  1  1  0  0  0]\n",
      " [-1  1  1 -1  1  1  1 -1]\n",
      " [-1  1  1  1 -1  1  1  1]\n",
      " [ 0 -1  1  1  1 -1  1 -1]\n",
      " [-1  0  1  0 -1  1 -1  0]\n",
      " [ 0  0  0  0 -1 -1  0 -1]\n",
      " [ 0  0  0  0 -1  0 -1  0]]\n",
      "Plays oponent:\n",
      "[5 7] False\n",
      "[[ 0  0  1  1  1  1  0  0]\n",
      " [-1  1  1  1  1  0  0  0]\n",
      " [-1  1  1 -1  1  1  1 -1]\n",
      " [-1  1  1  1 -1  1  1  1]\n",
      " [ 0 -1  1  1  1 -1  1  1]\n",
      " [-1  0  1  0 -1  1  1  1]\n",
      " [ 0  0  0  0 -1 -1  0 -1]\n",
      " [ 0  0  0  0 -1  0 -1  0]]\n",
      "Reward: -0.0\n",
      "Step: 20\n",
      "You play:\n",
      "[6, 3]\n",
      "[[ 0  0  1  1  1  1  0  0]\n",
      " [-1  1  1  1  1  0  0  0]\n",
      " [-1  1  1 -1  1  1  1 -1]\n",
      " [-1  1  1  1 -1  1  1  1]\n",
      " [ 0 -1  1  1  1 -1  1  1]\n",
      " [-1  0 -1  0 -1  1  1  1]\n",
      " [ 0  0  0 -1 -1 -1  0 -1]\n",
      " [ 0  0  0  0 -1  0 -1  0]]\n",
      "Plays oponent:\n",
      "[7 2] False\n",
      "[[ 0  0  1  1  1  1  0  0]\n",
      " [-1  1  1  1  1  0  0  0]\n",
      " [-1  1  1 -1  1  1  1 -1]\n",
      " [-1  1  1  1 -1  1  1  1]\n",
      " [ 0 -1  1  1  1  1  1  1]\n",
      " [-1  0 -1  0  1  1  1  1]\n",
      " [ 0  0  0  1 -1 -1  0 -1]\n",
      " [ 0  0  1  0 -1  0 -1  0]]\n",
      "Reward: -0.0\n",
      "Step: 21\n",
      "You play:\n",
      "[5, 3]\n",
      "[[ 0  0  1  1  1  1  0  0]\n",
      " [-1  1  1  1  1  0  0  0]\n",
      " [-1  1  1 -1  1  1  1 -1]\n",
      " [-1 -1  1 -1 -1  1  1  1]\n",
      " [ 0 -1 -1 -1  1  1  1  1]\n",
      " [-1  0 -1 -1  1  1  1  1]\n",
      " [ 0  0  0  1 -1 -1  0 -1]\n",
      " [ 0  0  1  0 -1  0 -1  0]]\n",
      "Plays oponent:\n",
      "[5 1] False\n",
      "[[ 0  0  1  1  1  1  0  0]\n",
      " [-1  1  1  1  1  0  0  0]\n",
      " [-1  1  1 -1  1  1  1 -1]\n",
      " [-1  1  1  1 -1  1  1  1]\n",
      " [ 0  1  1 -1  1  1  1  1]\n",
      " [-1  1  1  1  1  1  1  1]\n",
      " [ 0  0  0  1 -1 -1  0 -1]\n",
      " [ 0  0  1  0 -1  0 -1  0]]\n",
      "Reward: -0.0\n",
      "Step: 22\n",
      "You play:\n",
      "[7, 3]\n",
      "[[ 0  0  1  1  1  1  0  0]\n",
      " [-1  1  1  1  1  0  0  0]\n",
      " [-1  1  1 -1  1  1  1 -1]\n",
      " [-1  1  1  1 -1  1  1  1]\n",
      " [ 0  1  1 -1  1  1  1  1]\n",
      " [-1  1  1 -1  1  1  1  1]\n",
      " [ 0  0  0 -1 -1 -1  0 -1]\n",
      " [ 0  0  1 -1 -1  0 -1  0]]\n",
      "Plays oponent:\n",
      "[7 5] False\n",
      "[[ 0  0  1  1  1  1  0  0]\n",
      " [-1  1  1  1  1  0  0  0]\n",
      " [-1  1  1 -1  1  1  1 -1]\n",
      " [-1  1  1  1 -1  1  1  1]\n",
      " [ 0  1  1 -1  1  1  1  1]\n",
      " [-1  1  1  1  1  1  1  1]\n",
      " [ 0  0  0 -1  1  1  0 -1]\n",
      " [ 0  0  1  1  1  1 -1  0]]\n",
      "Reward: -0.0\n",
      "Step: 23\n",
      "You play:\n",
      "[7, 1]\n",
      "[[ 0  0  1  1  1  1  0  0]\n",
      " [-1  1  1  1  1  0  0  0]\n",
      " [-1  1  1 -1  1  1  1 -1]\n",
      " [-1  1  1  1 -1  1  1  1]\n",
      " [ 0  1  1 -1  1  1  1  1]\n",
      " [-1  1  1  1  1  1  1  1]\n",
      " [ 0  0  0 -1  1  1  0 -1]\n",
      " [ 0 -1 -1 -1 -1 -1 -1  0]]\n",
      "Plays oponent:\n",
      "[1 7] False\n",
      "[[ 0  0  1  1  1  1  0  0]\n",
      " [-1  1  1  1  1  0  0  1]\n",
      " [-1  1  1 -1  1  1  1  1]\n",
      " [-1  1  1  1 -1  1  1  1]\n",
      " [ 0  1  1 -1  1  1  1  1]\n",
      " [-1  1  1  1  1  1  1  1]\n",
      " [ 0  0  0 -1  1  1  0 -1]\n",
      " [ 0 -1 -1 -1 -1 -1 -1  0]]\n",
      "Reward: -0.0\n",
      "Step: 24\n",
      "You play:\n",
      "[1, 5]\n",
      "[[ 0  0  1  1  1  1  0  0]\n",
      " [-1 -1 -1 -1 -1 -1  0  1]\n",
      " [-1  1  1 -1  1 -1  1  1]\n",
      " [-1  1  1  1 -1 -1  1  1]\n",
      " [ 0  1  1 -1  1 -1  1  1]\n",
      " [-1  1  1  1  1 -1  1  1]\n",
      " [ 0  0  0 -1  1 -1  0 -1]\n",
      " [ 0 -1 -1 -1 -1 -1 -1  0]]\n",
      "Plays oponent:\n",
      "[0 1] False\n",
      "[[ 0  1  1  1  1  1  0  0]\n",
      " [-1  1  1 -1 -1 -1  0  1]\n",
      " [-1  1  1  1  1 -1  1  1]\n",
      " [-1  1  1  1  1 -1  1  1]\n",
      " [ 0  1  1 -1  1  1  1  1]\n",
      " [-1  1  1  1  1 -1  1  1]\n",
      " [ 0  0  0 -1  1 -1  0 -1]\n",
      " [ 0 -1 -1 -1 -1 -1 -1  0]]\n",
      "Reward: -0.0\n",
      "Step: 25\n",
      "You play:\n",
      "[0, 7]\n",
      "[[ 0  1  1  1  1  1  0 -1]\n",
      " [-1  1  1 -1 -1 -1  0 -1]\n",
      " [-1  1  1  1  1 -1  1 -1]\n",
      " [-1  1  1  1  1 -1  1 -1]\n",
      " [ 0  1  1 -1  1  1  1 -1]\n",
      " [-1  1  1  1  1 -1  1 -1]\n",
      " [ 0  0  0 -1  1 -1  0 -1]\n",
      " [ 0 -1 -1 -1 -1 -1 -1  0]]\n",
      "Plays oponent:\n",
      "[1 6] False\n",
      "[[ 0  1  1  1  1  1  0 -1]\n",
      " [-1  1  1  1  1  1  1 -1]\n",
      " [-1  1  1  1  1  1  1 -1]\n",
      " [-1  1  1  1  1 -1  1 -1]\n",
      " [ 0  1  1 -1  1  1  1 -1]\n",
      " [-1  1  1  1  1 -1  1 -1]\n",
      " [ 0  0  0 -1  1 -1  0 -1]\n",
      " [ 0 -1 -1 -1 -1 -1 -1  0]]\n",
      "Reward: -0.0\n",
      "Step: 26\n",
      "You play:\n",
      "[0, 0]\n",
      "[[-1  1  1  1  1  1  0 -1]\n",
      " [-1 -1  1  1  1  1  1 -1]\n",
      " [-1  1 -1  1  1  1  1 -1]\n",
      " [-1  1  1 -1  1 -1  1 -1]\n",
      " [ 0  1  1 -1 -1  1  1 -1]\n",
      " [-1  1  1  1  1 -1  1 -1]\n",
      " [ 0  0  0 -1  1 -1  0 -1]\n",
      " [ 0 -1 -1 -1 -1 -1 -1  0]]\n",
      "Plays oponent:\n",
      "[6 2] False\n",
      "[[-1  1  1  1  1  1  0 -1]\n",
      " [-1 -1  1  1  1  1  1 -1]\n",
      " [-1  1 -1  1  1  1  1 -1]\n",
      " [-1  1  1 -1  1 -1  1 -1]\n",
      " [ 0  1  1 -1 -1  1  1 -1]\n",
      " [-1  1  1  1  1 -1  1 -1]\n",
      " [ 0  0  1  1  1 -1  0 -1]\n",
      " [ 0 -1 -1 -1 -1 -1 -1  0]]\n",
      "Reward: -0.0\n",
      "Step: 27\n",
      "You play:\n",
      "[4, 0]\n",
      "[[-1  1  1  1  1  1  0 -1]\n",
      " [-1 -1  1  1  1  1  1 -1]\n",
      " [-1  1 -1  1  1  1  1 -1]\n",
      " [-1 -1  1 -1  1 -1  1 -1]\n",
      " [-1 -1 -1 -1 -1  1  1 -1]\n",
      " [-1 -1  1  1  1 -1  1 -1]\n",
      " [ 0  0 -1  1  1 -1  0 -1]\n",
      " [ 0 -1 -1 -1 -1 -1 -1  0]]\n",
      "Plays oponent:\n",
      "[6 1] False\n",
      "[[-1  1  1  1  1  1  0 -1]\n",
      " [-1 -1  1  1  1  1  1 -1]\n",
      " [-1  1 -1  1  1  1  1 -1]\n",
      " [-1  1  1 -1  1 -1  1 -1]\n",
      " [-1  1 -1 -1 -1  1  1 -1]\n",
      " [-1  1  1  1  1 -1  1 -1]\n",
      " [ 0  1  1  1  1 -1  0 -1]\n",
      " [ 0 -1 -1 -1 -1 -1 -1  0]]\n",
      "Reward: -0.0\n",
      "Step: 28\n",
      "You play:\n",
      "[7, 0]\n",
      "[[-1  1  1  1  1  1  0 -1]\n",
      " [-1 -1  1  1  1  1  1 -1]\n",
      " [-1  1 -1  1  1  1  1 -1]\n",
      " [-1  1  1 -1  1 -1  1 -1]\n",
      " [-1  1 -1 -1 -1  1  1 -1]\n",
      " [-1  1 -1  1  1 -1  1 -1]\n",
      " [ 0 -1  1  1  1 -1  0 -1]\n",
      " [-1 -1 -1 -1 -1 -1 -1  0]]\n",
      "Plays oponent:\n",
      "[6 0] False\n",
      "[[-1  1  1  1  1  1  0 -1]\n",
      " [-1 -1  1  1  1  1  1 -1]\n",
      " [-1  1 -1  1  1  1  1 -1]\n",
      " [-1  1  1 -1  1 -1  1 -1]\n",
      " [-1  1 -1 -1 -1  1  1 -1]\n",
      " [-1  1 -1  1  1 -1  1 -1]\n",
      " [ 1  1  1  1  1 -1  0 -1]\n",
      " [-1 -1 -1 -1 -1 -1 -1  0]]\n",
      "Reward: -0.0\n",
      "Step: 29\n",
      "You play:\n",
      "[0, 6]\n",
      "[[-1 -1 -1 -1 -1 -1 -1 -1]\n",
      " [-1 -1  1  1  1 -1  1 -1]\n",
      " [-1  1 -1  1 -1  1  1 -1]\n",
      " [-1  1  1 -1  1 -1  1 -1]\n",
      " [-1  1 -1 -1 -1  1  1 -1]\n",
      " [-1  1 -1  1  1 -1  1 -1]\n",
      " [ 1  1  1  1  1 -1  0 -1]\n",
      " [-1 -1 -1 -1 -1 -1 -1  0]]\n",
      "Plays oponent:\n",
      "[6 6] False\n",
      "[[-1 -1 -1 -1 -1 -1 -1 -1]\n",
      " [-1 -1  1  1  1 -1  1 -1]\n",
      " [-1  1 -1  1 -1  1  1 -1]\n",
      " [-1  1  1 -1  1 -1  1 -1]\n",
      " [-1  1 -1 -1 -1  1  1 -1]\n",
      " [-1  1 -1  1  1 -1  1 -1]\n",
      " [ 1  1  1  1  1  1  1 -1]\n",
      " [-1 -1 -1 -1 -1 -1 -1  0]]\n",
      "Reward: -0.0\n",
      "Step: 30\n",
      "You play:\n",
      "[7, 7]\n",
      "[[-1 -1 -1 -1 -1 -1 -1 -1]\n",
      " [-1 -1  1  1  1 -1  1 -1]\n",
      " [-1  1 -1  1 -1  1  1 -1]\n",
      " [-1  1  1 -1  1 -1  1 -1]\n",
      " [-1  1 -1 -1 -1  1  1 -1]\n",
      " [-1  1 -1  1  1 -1  1 -1]\n",
      " [ 1  1  1  1  1  1 -1 -1]\n",
      " [-1 -1 -1 -1 -1 -1 -1 -1]]\n",
      "Reward: 1.0\n",
      "1.0\n"
     ]
    }
   ],
   "source": [
    "self_play_env = SelfPlayEnv(board_shape=board_shape, Player=GreedyPlayer, verbose=1)\n",
    "done = False\n",
    "board = self_play_env.reset()\n",
    "while not done:\n",
    "    action = player.predict(board)\n",
    "    board, reward, done, _ = self_play_env.step(action)\n",
    "print(reward)"
   ]
  },
  {
   "cell_type": "code",
   "execution_count": null,
   "id": "04c56630-608b-4545-a360-8a570d8e4190",
   "metadata": {},
   "outputs": [],
   "source": []
  },
  {
   "cell_type": "code",
   "execution_count": null,
   "id": "30ab672a-ae35-4f02-9fb9-d22b76fa60b3",
   "metadata": {},
   "outputs": [],
   "source": []
  },
  {
   "cell_type": "code",
   "execution_count": 172,
   "id": "6f8076a0-072e-4906-b30a-cb943137d71d",
   "metadata": {},
   "outputs": [
    {
     "data": {
      "text/plain": [
       "(0.442, 0.414)"
      ]
     },
     "execution_count": 172,
     "metadata": {},
     "output_type": "execute_result"
    }
   ],
   "source": [
    "221/500, 207/500"
   ]
  },
  {
   "cell_type": "code",
   "execution_count": 154,
   "id": "21416104-10d9-4d2b-a843-ee7841aae3a8",
   "metadata": {},
   "outputs": [],
   "source": [
    "# self_play_env.get_winner(board)"
   ]
  },
  {
   "cell_type": "code",
   "execution_count": 54,
   "id": "b0656a70-f360-4157-ae53-40f9b4c53cf7",
   "metadata": {},
   "outputs": [
    {
     "data": {
      "text/plain": [
       "array([[ 0,  0, -1,  0],\n",
       "       [ 0, -1, -1,  0],\n",
       "       [ 0,  1, -1,  0],\n",
       "       [ 0,  0,  0,  0]], dtype=int8)"
      ]
     },
     "execution_count": 54,
     "metadata": {},
     "output_type": "execute_result"
    }
   ],
   "source": [
    "board"
   ]
  },
  {
   "cell_type": "code",
   "execution_count": 17,
   "id": "ece430da-f607-4493-a161-3646827d6a56",
   "metadata": {},
   "outputs": [],
   "source": [
    "# env = ReversiEnv(board_shape=4)\n",
    "# self_play_env.Player(env, 1)"
   ]
  },
  {
   "cell_type": "code",
   "execution_count": null,
   "id": "ce3be99a-46d9-490e-9be3-1c3a66e13821",
   "metadata": {},
   "outputs": [],
   "source": []
  },
  {
   "cell_type": "code",
   "execution_count": 19,
   "id": "d3cd23d1-9b0f-4086-a5ec-b22d0ab2a59d",
   "metadata": {},
   "outputs": [],
   "source": [
    "env = ReversiEnv(board_shape=4)\n",
    "obs = env.reset()[0]"
   ]
  },
  {
   "cell_type": "code",
   "execution_count": 20,
   "id": "97183575-086f-40dd-88d9-1e15be4c105c",
   "metadata": {},
   "outputs": [
    {
     "data": {
      "text/plain": [
       "array([[ 0,  0,  0,  0],\n",
       "       [ 0,  1, -1,  0],\n",
       "       [ 0, -1,  1,  0],\n",
       "       [ 0,  0,  0,  0]], dtype=int8)"
      ]
     },
     "execution_count": 20,
     "metadata": {},
     "output_type": "execute_result"
    }
   ],
   "source": [
    "obs"
   ]
  },
  {
   "cell_type": "code",
   "execution_count": 21,
   "id": "ce6b4a5c-36c9-4514-8327-ab30b0589cd4",
   "metadata": {},
   "outputs": [],
   "source": [
    "gp = GreedyPlayer(env, 1)"
   ]
  },
  {
   "cell_type": "code",
   "execution_count": 181,
   "id": "cfde2d8a-928c-4a13-8fe6-fc2537b3ec1d",
   "metadata": {},
   "outputs": [
    {
     "data": {
      "text/plain": [
       "array([0, 2])"
      ]
     },
     "execution_count": 181,
     "metadata": {},
     "output_type": "execute_result"
    }
   ],
   "source": [
    "gp.predict(obs)"
   ]
  },
  {
   "cell_type": "code",
   "execution_count": null,
   "id": "4dd64790-5d10-426d-a9d6-80714d1b80c0",
   "metadata": {},
   "outputs": [],
   "source": []
  }
 ],
 "metadata": {
  "kernelspec": {
   "display_name": "Python 3",
   "language": "python",
   "name": "python3"
  },
  "language_info": {
   "codemirror_mode": {
    "name": "ipython",
    "version": 3
   },
   "file_extension": ".py",
   "mimetype": "text/x-python",
   "name": "python",
   "nbconvert_exporter": "python",
   "pygments_lexer": "ipython3",
   "version": "3.7.3"
  }
 },
 "nbformat": 4,
 "nbformat_minor": 5
}
