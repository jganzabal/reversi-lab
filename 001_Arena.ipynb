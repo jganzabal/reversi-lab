{
 "cells": [
  {
   "cell_type": "code",
   "execution_count": 3,
   "id": "fcd9fdce-da35-4a89-bc99-140898403bfa",
   "metadata": {},
   "outputs": [
    {
     "name": "stdout",
     "output_type": "stream",
     "text": [
      "The autoreload extension is already loaded. To reload it, use:\n",
      "  %reload_ext autoreload\n"
     ]
    }
   ],
   "source": [
    "%load_ext autoreload\n",
    "%autoreload 2"
   ]
  },
  {
   "cell_type": "code",
   "execution_count": 4,
   "id": "fa95c0fb-bae9-44ea-ba7e-9437503d3028",
   "metadata": {},
   "outputs": [],
   "source": [
    "from players import TorchPlayer, RandomPlayer, GreedyPlayer, DictPolicyPlayer, evaluate_player\n",
    "from helper import SelfPlayEnv\n",
    "import numpy as np\n",
    "from stable_baselines3 import PPO"
   ]
  },
  {
   "cell_type": "code",
   "execution_count": null,
   "id": "fbae4cce-970c-4944-af9d-d6c1ad4f5817",
   "metadata": {},
   "outputs": [],
   "source": []
  },
  {
   "cell_type": "code",
   "execution_count": 19,
   "id": "ae49f3eb-675e-41f5-b530-803fc03d1551",
   "metadata": {},
   "outputs": [],
   "source": [
    "board_shape = 4"
   ]
  },
  {
   "cell_type": "code",
   "execution_count": 21,
   "id": "aeb06e96-58af-44ed-bb56-4eb31c13f1c0",
   "metadata": {},
   "outputs": [],
   "source": [
    "N = 5_000"
   ]
  },
  {
   "cell_type": "code",
   "execution_count": 22,
   "id": "5bc5234a-e87f-4b27-8681-665e07941204",
   "metadata": {},
   "outputs": [],
   "source": [
    "random_player_1 = RandomPlayer(board_shape=board_shape, flatten_action=True)\n",
    "greedy_player_1 = GreedyPlayer(board_shape=board_shape, flatten_action=True)\n",
    "dict_policy_player_1 = DictPolicyPlayer(board_shape=board_shape, flatten_action=True)\n",
    "\n",
    "random_player_2 = RandomPlayer(board_shape=board_shape)\n",
    "greedy_player_2 = GreedyPlayer(board_shape=board_shape)\n",
    "dict_policy_player_2 = DictPolicyPlayer(board_shape=board_shape)\n"
   ]
  },
  {
   "cell_type": "code",
   "execution_count": 23,
   "id": "dc4c420c-44c6-41d9-b615-e36a41be86e0",
   "metadata": {},
   "outputs": [
    {
     "name": "stdout",
     "output_type": "stream",
     "text": [
      "Wins as first: 0.35042735042733614\n",
      "Wins as second: 0.5477782147070174\n",
      "Ties as first: 0.10337810337809916\n",
      "Ties as second: 0.09476995674399942\n",
      "Plays as first: 2457\n",
      "Plays as second: 2543\n",
      "Avg game duration as first: 2.9685999999999404\n",
      "Avg game duration as second: 2.9261999999999415\n"
     ]
    }
   ],
   "source": [
    "_ = evaluate_player(random_player_1, random_player_2, N=N)"
   ]
  },
  {
   "cell_type": "code",
   "execution_count": 24,
   "id": "f4dea220-5a3e-4455-ab75-41388f6d43c4",
   "metadata": {},
   "outputs": [
    {
     "name": "stdout",
     "output_type": "stream",
     "text": [
      "Wins as first: 0.3527766679983878\n",
      "Wins as second: 0.5230276331597707\n",
      "Ties as first: 0.11785856971633568\n",
      "Ties as second: 0.08650380456547511\n",
      "Plays as first: 2503\n",
      "Plays as second: 2497\n",
      "Avg game duration as first: 2.948799999999941\n",
      "Avg game duration as second: 2.794599999999944\n"
     ]
    }
   ],
   "source": [
    "_ = evaluate_player(greedy_player_1, random_player_2, N=N)"
   ]
  },
  {
   "cell_type": "code",
   "execution_count": 25,
   "id": "5433242e-4157-4b16-8586-0d51fe34c2b7",
   "metadata": {},
   "outputs": [
    {
     "name": "stdout",
     "output_type": "stream",
     "text": [
      "Wins as first: 0.4304154901169653\n",
      "Wins as second: 0.5013883379611066\n",
      "Ties as first: 0.08834207341669671\n",
      "Ties as second: 0.08012693375644267\n",
      "Plays as first: 2479\n",
      "Plays as second: 2521\n",
      "Avg game duration as first: 2.9219999999999415\n",
      "Avg game duration as second: 2.851399999999943\n"
     ]
    }
   ],
   "source": [
    "_ = evaluate_player(greedy_player_1, greedy_player_2, N=N)"
   ]
  },
  {
   "cell_type": "code",
   "execution_count": 28,
   "id": "0ad2812a-5fbd-4a97-8ed4-6663fc4a045f",
   "metadata": {},
   "outputs": [
    {
     "name": "stdout",
     "output_type": "stream",
     "text": [
      "Wins as first: 0.8437747819191118\n",
      "Wins as second: 1.0\n",
      "Ties as first: 0.011895321173671689\n",
      "Ties as second: 0.0\n",
      "Plays as first: 2522\n",
      "Plays as second: 2478\n",
      "Avg game duration as first: 3.3594\n",
      "Avg game duration as second: 3.0286\n"
     ]
    }
   ],
   "source": [
    "# player = DictPolicyPlayer(1, board_shape=board_shape, flatten_action=True)\n",
    "_ = evaluate_player(dict_policy_player_1, random_player_2, N=N, eps=0)"
   ]
  },
  {
   "cell_type": "code",
   "execution_count": 29,
   "id": "32dff1ea-a4b8-4d12-9652-4b3d323a9af7",
   "metadata": {},
   "outputs": [
    {
     "name": "stdout",
     "output_type": "stream",
     "text": [
      "Wins as first: 0.8328745576091231\n",
      "Wins as second: 1.0\n",
      "Ties as first: 0.0\n",
      "Ties as second: 0.0\n",
      "Plays as first: 2543\n",
      "Plays as second: 2457\n",
      "Avg game duration as first: 3.3866\n",
      "Avg game duration as second: 3.0168\n"
     ]
    }
   ],
   "source": [
    "_ = evaluate_player(dict_policy_player_1, greedy_player_2, N=N, eps=0)"
   ]
  },
  {
   "cell_type": "markdown",
   "id": "f0877c18-e38d-44e5-959f-be8c22cdf494",
   "metadata": {},
   "source": [
    "# modelos RL"
   ]
  },
  {
   "cell_type": "code",
   "execution_count": 30,
   "id": "4936a76b-5d95-41f2-bf91-ce1cd40fd59a",
   "metadata": {},
   "outputs": [
    {
     "name": "stderr",
     "output_type": "stream",
     "text": [
      "Using cache found in /home/jupyter-julian/.cache/torch/hub/pytorch_vision_v0.9.0\n"
     ]
    }
   ],
   "source": [
    "model = PPO.load('models/PPO_4by4_0.99_0.95_0.0_10_8_masked/best_model.zip')\n",
    "ppo_model_player_1 = TorchPlayer(model, board_shape=board_shape, deterministic=False)"
   ]
  },
  {
   "cell_type": "code",
   "execution_count": 31,
   "id": "aec28d30-f93f-4418-ba21-20f0fb9174cf",
   "metadata": {},
   "outputs": [
    {
     "name": "stdout",
     "output_type": "stream",
     "text": [
      "Wins as first: 0.0\n",
      "Wins as second: 0.5490036600243778\n",
      "Ties as first: 0.0\n",
      "Ties as second: 0.015453436356241745\n",
      "Plays as first: 2541\n",
      "Plays as second: 2459\n",
      "Avg game duration as first: 2.614399999999948\n",
      "Avg game duration as second: 2.794599999999944\n"
     ]
    }
   ],
   "source": [
    "_ = evaluate_player(ppo_model_player_1, dict_policy_player_2, N=N)"
   ]
  },
  {
   "cell_type": "code",
   "execution_count": 32,
   "id": "652f244f-6e2b-4ca5-8eef-9c5df4cf57e8",
   "metadata": {},
   "outputs": [
    {
     "name": "stderr",
     "output_type": "stream",
     "text": [
      "Using cache found in /home/jupyter-julian/.cache/torch/hub/pytorch_vision_v0.9.0\n"
     ]
    }
   ],
   "source": [
    "model = PPO.load('models/PPO_4by4_0.99_0.95_0.0_10_8_masked/best_model.zip')\n",
    "ppo_model_player_1_det = TorchPlayer(model, board_shape=board_shape, deterministic=True)"
   ]
  },
  {
   "cell_type": "code",
   "execution_count": 34,
   "id": "6b53e558-fe88-444a-803b-16b93452030d",
   "metadata": {},
   "outputs": [
    {
     "name": "stdout",
     "output_type": "stream",
     "text": [
      "Wins as first: 0.0\n",
      "Wins as second: 1.0\n",
      "Ties as first: 0.0\n",
      "Ties as second: 0.0\n",
      "Plays as first: 2526\n",
      "Plays as second: 2474\n",
      "Avg game duration as first: 2.526\n",
      "Avg game duration as second: 2.9688\n"
     ]
    }
   ],
   "source": [
    "_ = evaluate_player(ppo_model_player_1_det, dict_policy_player_2, N=N, eps=0)"
   ]
  },
  {
   "cell_type": "markdown",
   "id": "fc3b86ed-62d7-4d94-923e-b4aba2170efe",
   "metadata": {},
   "source": [
    "# Board shape 8"
   ]
  },
  {
   "cell_type": "markdown",
   "id": "970603b1-980f-46e1-ad7d-bd4fbf509020",
   "metadata": {},
   "source": [
    "# MLP"
   ]
  },
  {
   "cell_type": "code",
   "execution_count": 5,
   "id": "85e39c54-0a84-4316-93dc-0d59383690d7",
   "metadata": {},
   "outputs": [],
   "source": [
    "N = 1000\n",
    "board_shape = 8\n",
    "random_player_2 = RandomPlayer(board_shape=board_shape)\n",
    "greedy_player_2 = GreedyPlayer(board_shape=board_shape)"
   ]
  },
  {
   "cell_type": "code",
   "execution_count": 15,
   "id": "f2ce9b40-f13e-4fe1-8450-93a9a6c7397e",
   "metadata": {},
   "outputs": [
    {
     "name": "stdout",
     "output_type": "stream",
     "text": [
      "Wins as first: 0.8736383442263892\n",
      "Wins as second: 0.902033271718872\n",
      "Ties as first: 0.026143790849667507\n",
      "Ties as second: 0.012939001848426442\n",
      "Plays as first: 459\n",
      "Plays as second: 541\n",
      "Avg game duration as first: 13.754999999998624\n",
      "Avg game duration as second: 16.041999999998396\n"
     ]
    }
   ],
   "source": [
    "model_8_mlp = PPO.load(\n",
    "    'models/PPO_8by8_0.99_0.95_0.0_10_8_masked_mlp/best_model-01.zip'\n",
    ")\n",
    "ppo_model_mlp_player_1 = TorchPlayer(\n",
    "    model_8_mlp, board_shape=board_shape, deterministic=True)\n",
    "_ = evaluate_player(ppo_model_mlp_player_1, random_player_2, N=N)"
   ]
  },
  {
   "cell_type": "code",
   "execution_count": 16,
   "id": "ebfa67b8-82d9-47b5-bbad-54330bc4c550",
   "metadata": {},
   "outputs": [
    {
     "name": "stdout",
     "output_type": "stream",
     "text": [
      "Wins as first: 0.8266129032256399\n",
      "Wins as second: 0.876984126983953\n",
      "Ties as first: 0.024193548387091895\n",
      "Ties as second: 0.011904761904759543\n",
      "Plays as first: 496\n",
      "Plays as second: 504\n",
      "Avg game duration as first: 14.931999999998506\n",
      "Avg game duration as second: 15.010999999998498\n"
     ]
    }
   ],
   "source": [
    "model_8_mlp = PPO.load(\n",
    "    'models/PPO_8by8_0.99_0.95_0.0_10_8_masked_mlp/best_model-01.zip'\n",
    ")\n",
    "ppo_model_mlp_player_1 = TorchPlayer(\n",
    "    model_8_mlp, board_shape=board_shape, deterministic=False)\n",
    "_ = evaluate_player(ppo_model_mlp_player_1, random_player_2, N=N)"
   ]
  },
  {
   "cell_type": "code",
   "execution_count": 6,
   "id": "de7e196e-4243-44ce-93ce-e493d45ce94c",
   "metadata": {},
   "outputs": [
    {
     "name": "stdout",
     "output_type": "stream",
     "text": [
      "Wins as first: 0.9219047619045863\n",
      "Wins as second: 0.9010526315787577\n",
      "Ties as first: 0.020952380952376958\n",
      "Ties as second: 0.023157894736837232\n",
      "Plays as first: 525\n",
      "Plays as second: 475\n",
      "Avg game duration as first: 15.805999999998418\n",
      "Avg game duration as second: 14.143999999998584\n"
     ]
    }
   ],
   "source": [
    "model_8_mlp = PPO.load(\n",
    "    'models/PPO_8by8_0.99_0.95_0.0_10_8_masked_mlp/best_model.zip'\n",
    ")\n",
    "ppo_model_mlp_player_1 = TorchPlayer(\n",
    "    model_8_mlp, board_shape=board_shape, deterministic=True)\n",
    "_ = evaluate_player(ppo_model_mlp_player_1, random_player_2, N=N)"
   ]
  },
  {
   "cell_type": "markdown",
   "id": "ba4893ca-4e11-4962-b47c-c24cf7c6b809",
   "metadata": {},
   "source": [
    "# CNN"
   ]
  },
  {
   "cell_type": "code",
   "execution_count": 35,
   "id": "c5d97ced-eace-4214-a201-cb2797f5613f",
   "metadata": {},
   "outputs": [],
   "source": [
    "N = 1000\n",
    "board_shape = 8\n",
    "random_player_2 = RandomPlayer(board_shape=board_shape)\n",
    "greedy_player_2 = GreedyPlayer(board_shape=board_shape)"
   ]
  },
  {
   "cell_type": "code",
   "execution_count": 36,
   "id": "04f58c3d-7ee7-45c9-9f44-80a09a255a23",
   "metadata": {},
   "outputs": [
    {
     "name": "stderr",
     "output_type": "stream",
     "text": [
      "Using cache found in /home/jupyter-julian/.cache/torch/hub/pytorch_vision_v0.9.0\n"
     ]
    },
    {
     "name": "stdout",
     "output_type": "stream",
     "text": [
      "Wins as first: 0.9179687499998206\n",
      "Wins as second: 0.8934426229506366\n",
      "Ties as first: 0.015624999999996947\n",
      "Ties as second: 0.016393442622947462\n",
      "Plays as first: 512\n",
      "Plays as second: 488\n",
      "Avg game duration as first: 15.40199999999846\n",
      "Avg game duration as second: 14.574999999998543\n"
     ]
    }
   ],
   "source": [
    "model_8_cnn = PPO.load(\n",
    "    'models/PPO_8by8_0.99_0.95_0.0_10_8_masked/best_model-03.zip'\n",
    ")\n",
    "ppo_model_cnn_player_1 = TorchPlayer(\n",
    "    model_8_cnn, board_shape=board_shape, deterministic=True)\n",
    "_ = evaluate_player(ppo_model_cnn_player_1, random_player_2, N=N)"
   ]
  },
  {
   "cell_type": "code",
   "execution_count": 37,
   "id": "6374bd5d-d3e4-49a7-bd59-8181778ec604",
   "metadata": {},
   "outputs": [
    {
     "name": "stderr",
     "output_type": "stream",
     "text": [
      "Using cache found in /home/jupyter-julian/.cache/torch/hub/pytorch_vision_v0.9.0\n"
     ]
    },
    {
     "name": "stdout",
     "output_type": "stream",
     "text": [
      "Wins as first: 0.8693069306928972\n",
      "Wins as second: 0.9090909090907254\n",
      "Ties as first: 0.03168316831682541\n",
      "Ties as second: 0.024242424242419347\n",
      "Plays as first: 505\n",
      "Plays as second: 495\n",
      "Avg game duration as first: 15.231999999998477\n",
      "Avg game duration as second: 14.782999999998522\n"
     ]
    }
   ],
   "source": [
    "model_8_cnn = PPO.load(\n",
    "    'models/PPO_8by8_0.99_0.95_0.0_10_8_masked/best_model-03.zip'\n",
    ")\n",
    "ppo_model_cnn_player_1 = TorchPlayer(\n",
    "    model_8_cnn, board_shape=board_shape, deterministic=False)\n",
    "_ = evaluate_player(ppo_model_cnn_player_1, random_player_2, N=N)"
   ]
  },
  {
   "cell_type": "code",
   "execution_count": null,
   "id": "9e4e76b7-4854-4d63-b70a-84055cd32aca",
   "metadata": {},
   "outputs": [],
   "source": []
  }
 ],
 "metadata": {
  "kernelspec": {
   "display_name": "Python 3",
   "language": "python",
   "name": "python3"
  },
  "language_info": {
   "codemirror_mode": {
    "name": "ipython",
    "version": 3
   },
   "file_extension": ".py",
   "mimetype": "text/x-python",
   "name": "python",
   "nbconvert_exporter": "python",
   "pygments_lexer": "ipython3",
   "version": "3.7.3"
  }
 },
 "nbformat": 4,
 "nbformat_minor": 5
}
