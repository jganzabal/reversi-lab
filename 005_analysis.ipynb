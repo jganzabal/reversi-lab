{
 "cells": [
  {
   "cell_type": "code",
   "execution_count": 2,
   "id": "76ea90dd-077f-40fb-a87e-69c4eb9bf883",
   "metadata": {},
   "outputs": [
    {
     "name": "stdout",
     "output_type": "stream",
     "text": [
      "The autoreload extension is already loaded. To reload it, use:\n",
      "  %reload_ext autoreload\n"
     ]
    }
   ],
   "source": [
    "%load_ext autoreload\n",
    "%autoreload 2"
   ]
  },
  {
   "cell_type": "code",
   "execution_count": 33,
   "id": "547366f9-a47f-4411-8784-9af7a01495f1",
   "metadata": {},
   "outputs": [],
   "source": [
    "from stable_baselines3 import PPO\n",
    "import numpy as np\n",
    "import torch as th"
   ]
  },
  {
   "cell_type": "code",
   "execution_count": 15,
   "id": "b93386b8-77c1-418b-afa2-36fd4f797186",
   "metadata": {},
   "outputs": [],
   "source": [
    "vf_file = 'mdp/V_WIN_LOOSE.npy'\n",
    "vf = np.load(vf_file, allow_pickle=True).item()"
   ]
  },
  {
   "cell_type": "code",
   "execution_count": 24,
   "id": "786f8244-e470-4fd6-a6a7-a2f8530266a2",
   "metadata": {},
   "outputs": [],
   "source": [
    "# model"
   ]
  },
  {
   "cell_type": "code",
   "execution_count": 43,
   "id": "79d79171-49b8-4190-85f6-31ad53d4d886",
   "metadata": {},
   "outputs": [],
   "source": [
    "model = PPO.load('models/PPO_4by4_0.99_0.95_0.0_10_8_masked_mlp/best_model.zip').policy.eval()"
   ]
  },
  {
   "cell_type": "code",
   "execution_count": 44,
   "id": "34653f61-8ddb-485c-8253-abc4576526e2",
   "metadata": {},
   "outputs": [],
   "source": [
    "# model_4_mlp"
   ]
  },
  {
   "cell_type": "code",
   "execution_count": 64,
   "id": "f088692f-8c7c-46f2-b847-e87f2d3f1249",
   "metadata": {},
   "outputs": [],
   "source": [
    "X = []\n",
    "y = []\n",
    "for b, v in vf.items():\n",
    "    board_shape = int(len(b)**0.5)\n",
    "    board = np.array(b).reshape(board_shape, board_shape)\n",
    "    X.append(board)\n",
    "    y.append(v)\n",
    "X = th.from_numpy(np.array(X)).cuda()\n",
    "y = th.from_numpy(np.array(y).reshape(-1,1)).cuda()"
   ]
  },
  {
   "cell_type": "code",
   "execution_count": 65,
   "id": "f0413478-97ec-45f8-b096-799d27db6be7",
   "metadata": {},
   "outputs": [],
   "source": [
    "N = 1000"
   ]
  },
  {
   "cell_type": "code",
   "execution_count": 67,
   "id": "024bb6f9-e9eb-4748-8714-a03cc1fee08e",
   "metadata": {},
   "outputs": [],
   "source": [
    "# y, v_estimated"
   ]
  },
  {
   "cell_type": "code",
   "execution_count": 68,
   "id": "11afbc51-be11-4b0d-96fd-c9b2ef753895",
   "metadata": {},
   "outputs": [],
   "source": [
    "pi, v_estimated, _ = model(X[:N])\n"
   ]
  },
  {
   "cell_type": "code",
   "execution_count": 77,
   "id": "d84c416a-5c1c-4683-9c9c-04c4b18f9465",
   "metadata": {},
   "outputs": [
    {
     "data": {
      "text/plain": [
       "tensor(1.1442, device='cuda:0', dtype=torch.float64, grad_fn=<DivBackward0>)"
      ]
     },
     "execution_count": 77,
     "metadata": {},
     "output_type": "execute_result"
    }
   ],
   "source": [
    "((v_estimated - y[:N])**2).sum()/1000"
   ]
  },
  {
   "cell_type": "code",
   "execution_count": null,
   "id": "39999ca0-62b4-46e5-89c6-2f970289aaf3",
   "metadata": {},
   "outputs": [],
   "source": [
    "model.eval()\n",
    "\n",
    "with torch.no_grad():\n",
    "    "
   ]
  }
 ],
 "metadata": {
  "kernelspec": {
   "display_name": "Python 3",
   "language": "python",
   "name": "python3"
  },
  "language_info": {
   "codemirror_mode": {
    "name": "ipython",
    "version": 3
   },
   "file_extension": ".py",
   "mimetype": "text/x-python",
   "name": "python",
   "nbconvert_exporter": "python",
   "pygments_lexer": "ipython3",
   "version": "3.7.3"
  }
 },
 "nbformat": 4,
 "nbformat_minor": 5
}
